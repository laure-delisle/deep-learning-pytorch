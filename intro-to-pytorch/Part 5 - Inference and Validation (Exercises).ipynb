{
 "cells": [
  {
   "cell_type": "markdown",
   "metadata": {},
   "source": [
    "# Inference and Validation\n",
    "\n",
    "Now that you have a trained network, you can use it for making predictions. This is typically called **inference**, a term borrowed from statistics. However, neural networks have a tendency to perform *too well* on the training data and aren't able to generalize to data that hasn't been seen before. This is called **overfitting** and it impairs inference performance. To test for overfitting while training, we measure the performance on data not in the training set called the **validation** set. We avoid overfitting through regularization such as dropout while monitoring the validation performance during training. In this notebook, I'll show you how to do this in PyTorch. \n",
    "\n",
    "As usual, let's start by loading the dataset through torchvision. You'll learn more about torchvision and loading data in a later part. This time we'll be taking advantage of the test set which you can get by setting `train=False` here:\n",
    "\n",
    "```python\n",
    "testset = datasets.FashionMNIST('~/.pytorch/F_MNIST_data/', download=True, train=False, transform=transform)\n",
    "```\n",
    "\n",
    "The test set contains images just like the training set. Typically you'll see 10-20% of the original dataset held out for testing and validation with the rest being used for training."
   ]
  },
  {
   "cell_type": "code",
   "execution_count": 1,
   "metadata": {},
   "outputs": [],
   "source": [
    "import torch\n",
    "from torchvision import datasets, transforms\n",
    "\n",
    "# Define a transform to normalize the data\n",
    "transform = transforms.Compose([transforms.ToTensor(),\n",
    "                                transforms.Normalize((0.5, 0.5, 0.5), (0.5, 0.5, 0.5))])\n",
    "# Download and load the training data\n",
    "trainset = datasets.FashionMNIST('~/.pytorch/F_MNIST_data/', download=True, train=True, transform=transform)\n",
    "trainloader = torch.utils.data.DataLoader(trainset, batch_size=64, shuffle=True)\n",
    "\n",
    "# Download and load the test data\n",
    "testset = datasets.FashionMNIST('~/.pytorch/F_MNIST_data/', download=True, train=False, transform=transform)\n",
    "testloader = torch.utils.data.DataLoader(testset, batch_size=64, shuffle=True)"
   ]
  },
  {
   "cell_type": "markdown",
   "metadata": {},
   "source": [
    "Here I'll create a model like normal, using the same one from my solution for part 4."
   ]
  },
  {
   "cell_type": "code",
   "execution_count": 2,
   "metadata": {},
   "outputs": [],
   "source": [
    "from torch import nn, optim\n",
    "import torch.nn.functional as F\n",
    "\n",
    "class Classifier(nn.Module):\n",
    "    def __init__(self):\n",
    "        super().__init__()\n",
    "        self.fc1 = nn.Linear(784, 256)\n",
    "        self.fc2 = nn.Linear(256, 128)\n",
    "        self.fc3 = nn.Linear(128, 64)\n",
    "        self.fc4 = nn.Linear(64, 10)\n",
    "        \n",
    "    def forward(self, x):\n",
    "        # make sure input tensor is flattened\n",
    "        x = x.view(x.shape[0], -1)\n",
    "        \n",
    "        x = F.relu(self.fc1(x))\n",
    "        x = F.relu(self.fc2(x))\n",
    "        x = F.relu(self.fc3(x))\n",
    "        x = F.log_softmax(self.fc4(x), dim=1)\n",
    "        \n",
    "        return x"
   ]
  },
  {
   "cell_type": "markdown",
   "metadata": {},
   "source": [
    "The goal of validation is to measure the model's performance on data that isn't part of the training set. Performance here is up to the developer to define though. Typically this is just accuracy, the percentage of classes the network predicted correctly. Other options are [precision and recall](https://en.wikipedia.org/wiki/Precision_and_recall#Definition_(classification_context)) and top-5 error rate. We'll focus on accuracy here. First I'll do a forward pass with one batch from the test set."
   ]
  },
  {
   "cell_type": "code",
   "execution_count": 3,
   "metadata": {},
   "outputs": [
    {
     "name": "stdout",
     "output_type": "stream",
     "text": [
      "torch.Size([64, 10])\n"
     ]
    }
   ],
   "source": [
    "model = Classifier()\n",
    "\n",
    "images, labels = next(iter(testloader))\n",
    "# Get the class probabilities\n",
    "ps = torch.exp(model(images))\n",
    "# Make sure the shape is appropriate, we should get 10 class probabilities for 64 examples\n",
    "print(ps.shape)"
   ]
  },
  {
   "cell_type": "markdown",
   "metadata": {},
   "source": [
    "With the probabilities, we can get the most likely class using the `ps.topk` method. This returns the $k$ highest values. Since we just want the most likely class, we can use `ps.topk(1)`. This returns a tuple of the top-$k$ values and the top-$k$ indices. If the highest value is the fifth element, we'll get back 4 as the index."
   ]
  },
  {
   "cell_type": "code",
   "execution_count": 4,
   "metadata": {},
   "outputs": [
    {
     "name": "stdout",
     "output_type": "stream",
     "text": [
      "tensor([[5],\n",
      "        [5],\n",
      "        [5],\n",
      "        [5],\n",
      "        [5],\n",
      "        [5],\n",
      "        [5],\n",
      "        [5],\n",
      "        [5],\n",
      "        [5]])\n"
     ]
    }
   ],
   "source": [
    "top_p, top_class = ps.topk(1, dim=1)\n",
    "# Look at the most likely classes for the first 10 examples\n",
    "print(top_class[:10,:])"
   ]
  },
  {
   "cell_type": "markdown",
   "metadata": {},
   "source": [
    "Now we can check if the predicted classes match the labels. This is simple to do by equating `top_class` and `labels`, but we have to be careful of the shapes. Here `top_class` is a 2D tensor with shape `(64, 1)` while `labels` is 1D with shape `(64)`. To get the equality to work out the way we want, `top_class` and `labels` must have the same shape.\n",
    "\n",
    "If we do\n",
    "\n",
    "```python\n",
    "equals = top_class == labels\n",
    "```\n",
    "\n",
    "`equals` will have shape `(64, 64)`, try it yourself. What it's doing is comparing the one element in each row of `top_class` with each element in `labels` which returns 64 True/False boolean values for each row."
   ]
  },
  {
   "cell_type": "code",
   "execution_count": 5,
   "metadata": {},
   "outputs": [
    {
     "name": "stdout",
     "output_type": "stream",
     "text": [
      "64 1\n"
     ]
    }
   ],
   "source": [
    "print(*top_class.shape)"
   ]
  },
  {
   "cell_type": "code",
   "execution_count": 6,
   "metadata": {},
   "outputs": [],
   "source": [
    "# reshape labels from (64) to (64, 1)\n",
    "equals = top_class == labels.view(*top_class.shape)"
   ]
  },
  {
   "cell_type": "markdown",
   "metadata": {},
   "source": [
    "Now we need to calculate the percentage of correct predictions. `equals` has binary values, either 0 or 1. This means that if we just sum up all the values and divide by the number of values, we get the percentage of correct predictions. This is the same operation as taking the mean, so we can get the accuracy with a call to `torch.mean`. If only it was that simple. If you try `torch.mean(equals)`, you'll get an error\n",
    "\n",
    "```\n",
    "RuntimeError: mean is not implemented for type torch.ByteTensor\n",
    "```\n",
    "\n",
    "This happens because `equals` has type `torch.ByteTensor` but `torch.mean` isn't implemented for tensors with that type. So we'll need to convert `equals` to a float tensor. Note that when we take `torch.mean` it returns a scalar tensor, to get the actual value as a float we'll need to do `accuracy.item()`."
   ]
  },
  {
   "cell_type": "code",
   "execution_count": 7,
   "metadata": {},
   "outputs": [
    {
     "name": "stdout",
     "output_type": "stream",
     "text": [
      "Accuracy: 7.8125%\n"
     ]
    }
   ],
   "source": [
    "accuracy = torch.mean(equals.type(torch.FloatTensor))\n",
    "print(f'Accuracy: {accuracy.item()*100}%')"
   ]
  },
  {
   "cell_type": "markdown",
   "metadata": {},
   "source": [
    "The network is untrained so it's making random guesses and we should see an accuracy around 10%. Now let's train our network and include our validation pass so we can measure how well the network is performing on the test set. Since we're not updating our parameters in the validation pass, we can speed up our code by turning off gradients using `torch.no_grad()`:\n",
    "\n",
    "```python\n",
    "# turn off gradients\n",
    "with torch.no_grad():\n",
    "    # validation pass here\n",
    "    for images, labels in testloader:\n",
    "        ...\n",
    "```\n",
    "\n",
    ">**Exercise:** Implement the validation loop below and print out the total accuracy after the loop. You can largely copy and paste the code from above, but I suggest typing it in because writing it out yourself is essential for building the skill. In general you'll always learn more by typing it rather than copy-pasting. You should be able to get an accuracy above 80%."
   ]
  },
  {
   "cell_type": "code",
   "execution_count": 13,
   "metadata": {},
   "outputs": [
    {
     "name": "stdout",
     "output_type": "stream",
     "text": [
      "Epoch: 1\n",
      "\tAccuracy: 84.10629034042358\n",
      "\tTrain loss: 0.5215231822148315\n",
      "\tTest loss: 0.4362775981426239\n",
      "Epoch: 2\n",
      "\tAccuracy: 85.3503167629242\n",
      "\tTrain loss: 0.3879709798437573\n",
      "\tTest loss: 0.39623117446899414\n",
      "Epoch: 3\n",
      "\tAccuracy: 85.75835824012756\n",
      "\tTrain loss: 0.35416417369551495\n",
      "\tTest loss: 0.39251425862312317\n",
      "Epoch: 4\n",
      "\tAccuracy: 86.74362897872925\n",
      "\tTrain loss: 0.33366334316795315\n",
      "\tTest loss: 0.37363553047180176\n",
      "Epoch: 5\n",
      "\tAccuracy: 86.70381903648376\n",
      "\tTrain loss: 0.31401115458911416\n",
      "\tTest loss: 0.3757878839969635\n"
     ]
    }
   ],
   "source": [
    "model = Classifier()\n",
    "criterion = nn.NLLLoss()\n",
    "optimizer = optim.Adam(model.parameters(), lr=0.003)\n",
    "\n",
    "epochs = 5\n",
    "steps = 0\n",
    "\n",
    "train_losses, test_losses = [], []\n",
    "for e in range(epochs):\n",
    "    running_loss = 0\n",
    "    for images, labels in trainloader:\n",
    "        \n",
    "        optimizer.zero_grad()\n",
    "        \n",
    "        log_ps = model(images)\n",
    "        loss = criterion(log_ps, labels)\n",
    "        loss.backward()\n",
    "        optimizer.step()\n",
    "        \n",
    "        running_loss += loss.item()\n",
    "        \n",
    "    else:\n",
    "        test_loss = 0\n",
    "        accuracy = 0\n",
    "        \n",
    "        with torch.no_grad():\n",
    "            for images, labels in testloader:\n",
    "                log_logits = model(images)\n",
    "                test_loss += criterion(log_logits, labels)\n",
    "                \n",
    "                logits = torch.exp(log_logits)\n",
    "                top_p, top_class = logits.topk(1, dim=1)\n",
    "                correct_classes = top_class == labels.view(*top_class.shape)\n",
    "                accuracy += torch.mean(correct_classes.type(torch.FloatTensor))   \n",
    "        \n",
    "    # losses for that epoch\n",
    "    train_losses.append(running_loss / len(trainloader))\n",
    "    test_losses.append(test_loss / len(testloader))\n",
    "    accuracy = accuracy / len(testloader)\n",
    "    \n",
    "    print('Epoch:', e+1)\n",
    "    print('\\tAccuracy: {}'.format(accuracy.item()*100))\n",
    "    print('\\tTrain loss: {}'.format(train_losses[-1]))\n",
    "    print('\\tTest loss: {}'.format(test_losses[-1]))"
   ]
  },
  {
   "cell_type": "markdown",
   "metadata": {},
   "source": [
    "## Overfitting\n",
    "\n",
    "If we look at the training and validation losses as we train the network, we can see a phenomenon known as overfitting.\n",
    "\n",
    "<img src='assets/overfitting.png' width=450px>\n",
    "\n",
    "The network learns the training set better and better, resulting in lower training losses. However, it starts having problems generalizing to data outside the training set leading to the validation loss increasing. The ultimate goal of any deep learning model is to make predictions on new data, so we should strive to get the lowest validation loss possible. One option is to use the version of the model with the lowest validation loss, here the one around 8-10 training epochs. This strategy is called *early-stopping*. In practice, you'd save the model frequently as you're training then later choose the model with the lowest validation loss.\n",
    "\n",
    "The most common method to reduce overfitting (outside of early-stopping) is *dropout*, where we randomly drop input units. This forces the network to share information between weights, increasing it's ability to generalize to new data. Adding dropout in PyTorch is straightforward using the [`nn.Dropout`](https://pytorch.org/docs/stable/nn.html#torch.nn.Dropout) module.\n",
    "\n",
    "```python\n",
    "class Classifier(nn.Module):\n",
    "    def __init__(self):\n",
    "        super().__init__()\n",
    "        self.fc1 = nn.Linear(784, 256)\n",
    "        self.fc2 = nn.Linear(256, 128)\n",
    "        self.fc3 = nn.Linear(128, 64)\n",
    "        self.fc4 = nn.Linear(64, 10)\n",
    "        \n",
    "        # Dropout module with 0.2 drop probability\n",
    "        self.dropout = nn.Dropout(p=0.2)\n",
    "        \n",
    "    def forward(self, x):\n",
    "        # make sure input tensor is flattened\n",
    "        x = x.view(x.shape[0], -1)\n",
    "        \n",
    "        # Now with dropout\n",
    "        x = self.dropout(F.relu(self.fc1(x)))\n",
    "        x = self.dropout(F.relu(self.fc2(x)))\n",
    "        x = self.dropout(F.relu(self.fc3(x)))\n",
    "        \n",
    "        # output so no dropout here\n",
    "        x = F.log_softmax(self.fc4(x), dim=1)\n",
    "        \n",
    "        return x\n",
    "```\n",
    "\n",
    "During training we want to use dropout to prevent overfitting, but during inference we want to use the entire network. So, we need to turn off dropout during validation, testing, and whenever we're using the network to make predictions. To do this, you use `model.eval()`. This sets the model to evaluation mode where the dropout probability is 0. You can turn dropout back on by setting the model to train mode with `model.train()`. In general, the pattern for the validation loop will look like this, where you turn off gradients, set the model to evaluation mode, calculate the validation loss and metric, then set the model back to train mode.\n",
    "\n",
    "```python\n",
    "# turn off gradients\n",
    "with torch.no_grad():\n",
    "    \n",
    "    # set model to evaluation mode\n",
    "    model.eval()\n",
    "    \n",
    "    # validation pass here\n",
    "    for images, labels in testloader:\n",
    "        ...\n",
    "\n",
    "# set model back to train mode\n",
    "model.train()\n",
    "```"
   ]
  },
  {
   "cell_type": "markdown",
   "metadata": {},
   "source": [
    "> **Exercise:** Add dropout to your model and train it on Fashion-MNIST again. See if you can get a lower validation loss or higher accuracy."
   ]
  },
  {
   "cell_type": "code",
   "execution_count": 16,
   "metadata": {},
   "outputs": [],
   "source": [
    "## TODO: Define your model with dropout added\n",
    "class ClassifierWithDropout(nn.Module):\n",
    "    def __init__(self):\n",
    "        super().__init__()\n",
    "        self.fc1 = nn.Linear(784, 256)\n",
    "        self.fc2 = nn.Linear(256, 128)\n",
    "        self.fc3 = nn.Linear(128, 64)\n",
    "        self.fc4 = nn.Linear(64, 10)\n",
    "        self.dropout = nn.Dropout(p=0.2)\n",
    "        \n",
    "    def forward(self, x):\n",
    "        # make sure input tensor is flattened\n",
    "        x = x.view(x.shape[0], -1)\n",
    "        \n",
    "        x = self.dropout(F.relu(self.fc1(x)))\n",
    "        x = self.dropout(F.relu(self.fc2(x)))\n",
    "        x = self.dropout(F.relu(self.fc3(x)))\n",
    "        x = F.log_softmax(self.fc4(x), dim=1)\n",
    "        \n",
    "        return x"
   ]
  },
  {
   "cell_type": "code",
   "execution_count": 19,
   "metadata": {},
   "outputs": [
    {
     "name": "stdout",
     "output_type": "stream",
     "text": [
      "Epoch: 1\n",
      "\tAccuracy: 82.36464858055115\n",
      "\tTrain loss: 0.6083488089284663\n",
      "\tTest loss: 0.5018192529678345\n",
      "Epoch: 2\n",
      "\tAccuracy: 83.7579607963562\n",
      "\tTrain loss: 0.48589464289737916\n",
      "\tTest loss: 0.4297392964363098\n",
      "Epoch: 3\n",
      "\tAccuracy: 85.11146306991577\n",
      "\tTrain loss: 0.44683930945040573\n",
      "\tTest loss: 0.411797434091568\n",
      "Epoch: 4\n",
      "\tAccuracy: 85.02189517021179\n",
      "\tTrain loss: 0.43183928465982996\n",
      "\tTest loss: 0.42512938380241394\n",
      "Epoch: 5\n",
      "\tAccuracy: 85.75835824012756\n",
      "\tTrain loss: 0.42129708842428\n",
      "\tTest loss: 0.40719494223594666\n",
      "Epoch: 6\n",
      "\tAccuracy: 86.00716590881348\n",
      "\tTrain loss: 0.41041978099135196\n",
      "\tTest loss: 0.38736793398857117\n",
      "Epoch: 7\n",
      "\tAccuracy: 85.78821420669556\n",
      "\tTrain loss: 0.4033079230582028\n",
      "\tTest loss: 0.4123028814792633\n",
      "Epoch: 8\n",
      "\tAccuracy: 85.40008068084717\n",
      "\tTrain loss: 0.39300385317695674\n",
      "\tTest loss: 0.40227705240249634\n",
      "Epoch: 9\n",
      "\tAccuracy: 85.53941249847412\n",
      "\tTrain loss: 0.39148670303891464\n",
      "\tTest loss: 0.41588863730430603\n",
      "Epoch: 10\n",
      "\tAccuracy: 85.81807613372803\n",
      "\tTrain loss: 0.395762039257138\n",
      "\tTest loss: 0.39778807759284973\n",
      "Epoch: 11\n",
      "\tAccuracy: 86.53463125228882\n",
      "\tTrain loss: 0.3806313626658815\n",
      "\tTest loss: 0.3816240727901459\n",
      "Epoch: 12\n",
      "\tAccuracy: 86.36544346809387\n",
      "\tTrain loss: 0.3762116034084292\n",
      "\tTest loss: 0.3985525369644165\n",
      "Epoch: 13\n",
      "\tAccuracy: 86.9128167629242\n",
      "\tTrain loss: 0.3765522930413675\n",
      "\tTest loss: 0.38549572229385376\n",
      "Epoch: 14\n",
      "\tAccuracy: 86.97253465652466\n",
      "\tTrain loss: 0.3755840619902875\n",
      "\tTest loss: 0.38104215264320374\n",
      "Epoch: 15\n",
      "\tAccuracy: 86.8829607963562\n",
      "\tTrain loss: 0.36460230153983336\n",
      "\tTest loss: 0.3772408664226532\n",
      "Epoch: 16\n",
      "\tAccuracy: 87.30095624923706\n",
      "\tTrain loss: 0.36694249594961403\n",
      "\tTest loss: 0.37934690713882446\n",
      "Epoch: 17\n",
      "\tAccuracy: 86.66401505470276\n",
      "\tTrain loss: 0.3668505754202668\n",
      "\tTest loss: 0.385434091091156\n",
      "Epoch: 18\n",
      "\tAccuracy: 86.63415312767029\n",
      "\tTrain loss: 0.36294502027825254\n",
      "\tTest loss: 0.39040812849998474\n",
      "Epoch: 19\n",
      "\tAccuracy: 87.54976391792297\n",
      "\tTrain loss: 0.3541997377949356\n",
      "\tTest loss: 0.37640833854675293\n",
      "Epoch: 20\n",
      "\tAccuracy: 87.05214858055115\n",
      "\tTrain loss: 0.3553834468809399\n",
      "\tTest loss: 0.38680827617645264\n",
      "Epoch: 21\n",
      "\tAccuracy: 87.12181448936462\n",
      "\tTrain loss: 0.35542560726213557\n",
      "\tTest loss: 0.38838452100753784\n",
      "Epoch: 22\n",
      "\tAccuracy: 86.53463125228882\n",
      "\tTrain loss: 0.3571518096111731\n",
      "\tTest loss: 0.39651384949684143\n",
      "Epoch: 23\n",
      "\tAccuracy: 87.09195852279663\n",
      "\tTrain loss: 0.35289577409021383\n",
      "\tTest loss: 0.3812483549118042\n",
      "Epoch: 24\n",
      "\tAccuracy: 87.07205653190613\n",
      "\tTrain loss: 0.354157816944346\n",
      "\tTest loss: 0.37210509181022644\n",
      "Epoch: 25\n",
      "\tAccuracy: 87.4800980091095\n",
      "\tTrain loss: 0.3467875985877473\n",
      "\tTest loss: 0.35679689049720764\n",
      "Epoch: 26\n",
      "\tAccuracy: 87.45023608207703\n",
      "\tTrain loss: 0.34584405474952545\n",
      "\tTest loss: 0.37324219942092896\n",
      "Epoch: 27\n",
      "\tAccuracy: 87.61942386627197\n",
      "\tTrain loss: 0.34661676737068814\n",
      "\tTest loss: 0.3791624903678894\n",
      "Epoch: 28\n",
      "\tAccuracy: 86.95262670516968\n",
      "\tTrain loss: 0.3353246642884288\n",
      "\tTest loss: 0.37916651368141174\n",
      "Epoch: 29\n",
      "\tAccuracy: 87.25119233131409\n",
      "\tTrain loss: 0.34230190446413655\n",
      "\tTest loss: 0.3887478709220886\n",
      "Epoch: 30\n",
      "\tAccuracy: 86.82324886322021\n",
      "\tTrain loss: 0.3368649421565568\n",
      "\tTest loss: 0.3757985830307007\n"
     ]
    }
   ],
   "source": [
    "## TODO: Train your model with dropout, and monitor the training progress with the validation loss and accuracy\n",
    "model = ClassifierWithDropout()\n",
    "criterion = nn.NLLLoss()\n",
    "optimizer = optim.Adam(model.parameters(), lr=0.003)\n",
    "\n",
    "epochs = 30\n",
    "steps = 0\n",
    "\n",
    "train_losses, test_losses = [], []\n",
    "for e in range(epochs):\n",
    "    running_loss = 0\n",
    "    model.train()\n",
    "    \n",
    "    for images, labels in trainloader:\n",
    "        \n",
    "        optimizer.zero_grad()\n",
    "        \n",
    "        log_ps = model(images)\n",
    "        loss = criterion(log_ps, labels)\n",
    "        loss.backward()\n",
    "        optimizer.step()\n",
    "        \n",
    "        running_loss += loss.item()\n",
    "        \n",
    "    else:\n",
    "        test_loss = 0\n",
    "        accuracy = 0\n",
    "        model.eval()\n",
    "        \n",
    "        with torch.no_grad():\n",
    "            for images, labels in testloader:\n",
    "                log_logits = model(images)\n",
    "                test_loss += criterion(log_logits, labels)\n",
    "                \n",
    "                logits = torch.exp(log_logits)\n",
    "                top_p, top_class = logits.topk(1, dim=1)\n",
    "                correct_classes = top_class == labels.view(*top_class.shape)\n",
    "                accuracy += torch.mean(correct_classes.type(torch.FloatTensor))   \n",
    "        \n",
    "    # losses for that epoch\n",
    "    train_losses.append(running_loss / len(trainloader))\n",
    "    test_losses.append(test_loss / len(testloader))\n",
    "    accuracy = accuracy / len(testloader)\n",
    "    \n",
    "    print('Epoch:', e+1)\n",
    "    print('\\tAccuracy: {}'.format(accuracy.item()*100))\n",
    "    print('\\tTrain loss: {}'.format(train_losses[-1]))\n",
    "    print('\\tTest loss: {}'.format(test_losses[-1]))"
   ]
  },
  {
   "cell_type": "code",
   "execution_count": 21,
   "metadata": {},
   "outputs": [
    {
     "data": {
      "text/plain": [
       "<matplotlib.legend.Legend at 0x7f498c94d908>"
      ]
     },
     "execution_count": 21,
     "metadata": {},
     "output_type": "execute_result"
    },
    {
     "data": {
      "image/png": "[encoded data removed]",
      "text/plain": [
       "<Figure size 432x288 with 1 Axes>"
      ]
     },
     "metadata": {
      "image/png": {
       "height": 250,
       "width": 380
      },
      "needs_background": "light"
     },
     "output_type": "display_data"
    }
   ],
   "source": [
    "%matplotlib inline\n",
    "%config InlineBackend.figure_format = 'retina'\n",
    "\n",
    "import matplotlib.pyplot as plt\n",
    "plt.plot(train_losses, label='Training loss')\n",
    "plt.plot(test_losses, label='Validation loss')\n",
    "plt.legend(frameon=False)"
   ]
  },
  {
   "cell_type": "markdown",
   "metadata": {},
   "source": [
    "## Inference\n",
    "\n",
    "Now that the model is trained, we can use it for inference. We've done this before, but now we need to remember to set the model in inference mode with `model.eval()`. You'll also want to turn off autograd with the `torch.no_grad()` context."
   ]
  },
  {
   "cell_type": "code",
   "execution_count": 20,
   "metadata": {},
   "outputs": [
    {
     "data": {
      "image/png": "[encoded data removed]",
      "text/plain": [
       "<Figure size 432x648 with 2 Axes>"
      ]
     },
     "metadata": {
      "needs_background": "light"
     },
     "output_type": "display_data"
    }
   ],
   "source": [
    "# Import helper module (should be in the repo)\n",
    "import helper\n",
    "\n",
    "# Test out your network!\n",
    "\n",
    "model.eval()\n",
    "\n",
    "dataiter = iter(testloader)\n",
    "images, labels = dataiter.next()\n",
    "img = images[0]\n",
    "# Convert 2D image to 1D vector\n",
    "img = img.view(1, 784)\n",
    "\n",
    "# Calculate the class probabilities (softmax) for img\n",
    "with torch.no_grad():\n",
    "    output = model.forward(img)\n",
    "\n",
    "ps = torch.exp(output)\n",
    "\n",
    "# Plot the image and probabilities\n",
    "helper.view_classify(img.view(1, 28, 28), ps, version='Fashion')"
   ]
  },
  {
   "cell_type": "markdown",
   "metadata": {},
   "source": [
    "## Next Up!\n",
    "\n",
    "In the next part, I'll show you how to save your trained models. In general, you won't want to train a model everytime you need it. Instead, you'll train once, save it, then load the model when you want to train more or use if for inference."
   ]
  }
 ],
 "metadata": {
  "kernelspec": {
   "display_name": "Python 3",
   "language": "python",
   "name": "python3"
  },
  "language_info": {
   "codemirror_mode": {
    "name": "ipython",
    "version": 3
   },
   "file_extension": ".py",
   "mimetype": "text/x-python",
   "name": "python",
   "nbconvert_exporter": "python",
   "pygments_lexer": "ipython3",
   "version": "3.6.5"
  }
 },
 "nbformat": 4,
 "nbformat_minor": 2
}
